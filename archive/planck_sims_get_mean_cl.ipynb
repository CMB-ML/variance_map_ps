{
 "cells": [
  {
   "cell_type": "code",
   "execution_count": 1,
   "metadata": {},
   "outputs": [],
   "source": [
    "from pathlib import Path\n",
    "\n",
    "import numpy as np\n",
    "import healpy as hp\n",
    "\n",
    "import matplotlib.pyplot as plt\n",
    "import matplotlib.transforms as transforms\n",
    "\n",
    "from tqdm import tqdm  # For progress bars\n",
    "\n",
    "from handle_data import get_map_dtype, get_planck_obs_data, get_planck_noise_data"
   ]
  },
  {
   "cell_type": "code",
   "execution_count": 2,
   "metadata": {},
   "outputs": [],
   "source": [
    "import logging"
   ]
  },
  {
   "cell_type": "code",
   "execution_count": 3,
   "metadata": {},
   "outputs": [],
   "source": [
    "logger = logging.getLogger(\"handle_data\")\n",
    "logger.setLevel(logging.DEBUG)"
   ]
  },
  {
   "cell_type": "code",
   "execution_count": 4,
   "metadata": {},
   "outputs": [],
   "source": [
    "DATA_ROOT = \"/data/jim/CMB_Data/\"\n",
    "ASSETS_DIRECTORY = f\"{DATA_ROOT}/Assets/Planck/\"\n",
    "PLANCK_NOISE_DIR = f\"{DATA_ROOT}/Planck_Noise/\"\n",
    "\n",
    "DETECTOR = 857\n",
    "N_PLANCK_SIMS = 40\n",
    "\n",
    "NSIDE = 2048"
   ]
  },
  {
   "cell_type": "code",
   "execution_count": 5,
   "metadata": {},
   "outputs": [],
   "source": [
    "def get_lmax_for_nside(nside):\n",
    "    \"\"\"Helper function: Max ell for a given nside; to be considered a parameter\"\"\"\n",
    "    return 3 * nside - 1"
   ]
  },
  {
   "cell_type": "markdown",
   "metadata": {},
   "source": [
    "# Setup"
   ]
  },
  {
   "cell_type": "code",
   "execution_count": 6,
   "metadata": {},
   "outputs": [],
   "source": [
    "def plot_ps(ps,\n",
    "            title=None, \n",
    "            x_low=1,\n",
    "            x_high=1e4,\n",
    "            y_low=1e-4,\n",
    "            y_high=1e-2,\n",
    "            white_noise_expected=None):\n",
    "    y_label=\"$N_{\\\\ell}(\\\\mu K^2)$\"\n",
    "    x_label=\"$\\\\ell$\"\n",
    "    plt.figure()\n",
    "    plt.plot(ps)\n",
    "    plt.xlabel(x_label)\n",
    "    plt.ylabel(y_label)\n",
    "    plt.xscale('log')\n",
    "    plt.yscale('log')\n",
    "    if white_noise_expected is not None:\n",
    "        plt.axhline(y=white_noise_expected, color='black', linestyle='--')\n",
    "        plt.text(y=white_noise_expected, x=x_high, s=\"$\\\\sigma_{\\\\ell}=\" + f\"{white_noise_expected:.1e}$\", \n",
    "                 color='black',\n",
    "                 horizontalalignment='right', verticalalignment='bottom')\n",
    "    plt.xlim([x_low, x_high])\n",
    "    plt.ylim([y_low, y_high])\n",
    "    plt.title(title)\n",
    "    plt.show()"
   ]
  },
  {
   "cell_type": "code",
   "execution_count": 7,
   "metadata": {},
   "outputs": [],
   "source": [
    "def plot_many_ps(ps_s,\n",
    "            title=None, \n",
    "            x_low=1,\n",
    "            x_high=1e4,\n",
    "            y_low=1e-4,\n",
    "            y_high=1e-2,\n",
    "            styles=None,\n",
    "            labels=None,\n",
    "            white_noise_expected=None,\n",
    "            legend=True):\n",
    "    y_label=\"$N_{\\\\ell}(\\\\mu K^2)$\"\n",
    "    x_label=\"$\\\\ell$\"\n",
    "    plt.figure()\n",
    "    for i, ps in enumerate(ps_s):\n",
    "        if styles is None:\n",
    "            style = None\n",
    "            linewidth = 1\n",
    "        elif styles[i] != \"-\":\n",
    "            style = styles[i]\n",
    "            linewidth = 2\n",
    "        else:\n",
    "            style = styles[i]\n",
    "            linewidth = 1\n",
    "        label = None if labels is None else labels[i]\n",
    "        plt.plot(ps, label=label, linestyle=style, linewidth=linewidth)\n",
    "    if white_noise_expected is not None:\n",
    "        plt.axhline(y=white_noise_expected, color='black', linestyle='--', linewidth=1)\n",
    "        plt.text(y=white_noise_expected, x=x_high, s=\"$\\\\sigma_{\\\\ell}=\" + f\"{white_noise_expected:.1e}$\", \n",
    "                 color='black',\n",
    "                 horizontalalignment='right', verticalalignment='bottom')\n",
    "    plt.xlabel(x_label)\n",
    "    plt.ylabel(y_label)\n",
    "    plt.xscale('log')\n",
    "    plt.yscale('log')\n",
    "    plt.xlim([x_low, x_high])\n",
    "    plt.ylim([y_low, y_high])\n",
    "    plt.title(title)\n",
    "    if legend:\n",
    "        plt.legend()\n",
    "    plt.show()"
   ]
  },
  {
   "cell_type": "code",
   "execution_count": 8,
   "metadata": {},
   "outputs": [],
   "source": [
    "def make_map_hist(some_map, noise_level, title=None, legend=False):\n",
    "    if isinstance(some_map, list):\n",
    "        for i, one_map in enumerate(some_map):\n",
    "            label = f\"Map {i}\" if legend else None\n",
    "            plt.hist(one_map, bins=100, histtype='step', label=label)\n",
    "    else:\n",
    "        plt.hist(some_map, bins=100, histtype='step')\n",
    "    plt.axvline(noise_level, color='black', linestyle='--', linewidth=1)\n",
    "    plt.axvline(-noise_level, color='black', linestyle='--', linewidth=1)\n",
    "    plt.text(x=-noise_level, y=175000, s=f\"$-\\\\sigma$\", color='black', \n",
    "            rotation=90,\n",
    "            verticalalignment='center', horizontalalignment='right')\n",
    "    offset = transforms.ScaledTranslation(2/72, 0, plt.gcf().dpi_scale_trans)\n",
    "    plt.text(x=noise_level, y=175000, s=f\"$+\\\\sigma$\", color='black', \n",
    "            rotation=90,\n",
    "            verticalalignment='center', horizontalalignment='left',\n",
    "            transform=plt.gca().transData + offset)\n",
    "    plt.xlabel(\"$\\\\mu K_{CMB}$\")\n",
    "    plt.ylabel(\"Pixel Count\")\n",
    "    if legend:\n",
    "        plt.legend()\n",
    "    plt.title(title)"
   ]
  },
  {
   "cell_type": "markdown",
   "metadata": {},
   "source": [
    "# Planck Sims"
   ]
  },
  {
   "cell_type": "code",
   "execution_count": 9,
   "metadata": {},
   "outputs": [],
   "source": [
    "lmax = get_lmax_for_nside(NSIDE)  # Defined above as 3*Nside-1"
   ]
  },
  {
   "cell_type": "code",
   "execution_count": 10,
   "metadata": {},
   "outputs": [
    {
     "name": "stdout",
     "output_type": "stream",
     "text": [
      "All maps acquired!\n"
     ]
    }
   ],
   "source": [
    "# Pre-download\n",
    "for i in range(N_PLANCK_SIMS):\n",
    "    src_map_fn = get_planck_noise_data(detector=DETECTOR, assets_directory=ASSETS_DIRECTORY, realization=i, progress=True)\n",
    "print(\"All maps acquired!\")"
   ]
  },
  {
   "cell_type": "code",
   "execution_count": 11,
   "metadata": {},
   "outputs": [
    {
     "name": "stderr",
     "output_type": "stream",
     "text": [
      "100%|██████████| 40/40 [15:25<00:00, 23.13s/it]\n"
     ]
    }
   ],
   "source": [
    "src_cls = []\n",
    "for i in tqdm(range(N_PLANCK_SIMS)):\n",
    "    src_map_fn = get_planck_noise_data(detector=DETECTOR, assets_directory=ASSETS_DIRECTORY, realization=i, progress=True)\n",
    "    t_src_map = hp.read_map(src_map_fn) * 1e6\n",
    "    src_cls.append(hp.anafast(t_src_map, lmax=lmax))\n",
    "del t_src_map"
   ]
  },
  {
   "cell_type": "code",
   "execution_count": 12,
   "metadata": {},
   "outputs": [],
   "source": [
    "mean_cl = np.mean(src_cls, axis=0)"
   ]
  },
  {
   "cell_type": "code",
   "execution_count": 13,
   "metadata": {},
   "outputs": [],
   "source": [
    "np.savetxt(f\"mean_cl_nside{NSIDE}_det{DETECTOR}.txt\", mean_cl)"
   ]
  },
  {
   "cell_type": "code",
   "execution_count": 14,
   "metadata": {},
   "outputs": [
    {
     "data": {
      "text/plain": [
       "(0.0, 0.0)"
      ]
     },
     "execution_count": 14,
     "metadata": {},
     "output_type": "execute_result"
    }
   ],
   "source": [
    "check_cl = np.loadtxt(f\"mean_cl_nside{NSIDE}_det{DETECTOR}.txt\")\n",
    "np.max(mean_cl - check_cl), np.min(mean_cl - check_cl)"
   ]
  }
 ],
 "metadata": {
  "kernelspec": {
   "display_name": "var_map_demo",
   "language": "python",
   "name": "python3"
  },
  "language_info": {
   "codemirror_mode": {
    "name": "ipython",
    "version": 3
   },
   "file_extension": ".py",
   "mimetype": "text/x-python",
   "name": "python",
   "nbconvert_exporter": "python",
   "pygments_lexer": "ipython3",
   "version": "3.9.20"
  }
 },
 "nbformat": 4,
 "nbformat_minor": 2
}
