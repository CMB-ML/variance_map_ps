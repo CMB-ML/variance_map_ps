{
 "cells": [
  {
   "cell_type": "code",
   "execution_count": 84,
   "metadata": {},
   "outputs": [],
   "source": [
    "from pathlib import Path\n",
    "from itertools import product\n",
    "\n",
    "import numpy as np\n",
    "import healpy as hp\n",
    "from sklearn.decomposition import PCA\n",
    "from astropy.io import fits\n",
    "\n",
    "import matplotlib.pyplot as plt\n",
    "import matplotlib.transforms as transforms\n",
    "\n",
    "from tqdm import tqdm  # For progress bars\n",
    "\n",
    "from cmbml.utils.handle_data import get_map_dtype, get_planck_obs_data, get_planck_noise_data"
   ]
  },
  {
   "cell_type": "code",
   "execution_count": 85,
   "metadata": {},
   "outputs": [],
   "source": [
    "import logging"
   ]
  },
  {
   "cell_type": "code",
   "execution_count": 86,
   "metadata": {},
   "outputs": [],
   "source": [
    "logger = logging.getLogger(\"handle_data\")\n",
    "logger.setLevel(logging.DEBUG)"
   ]
  },
  {
   "cell_type": "code",
   "execution_count": 87,
   "metadata": {},
   "outputs": [],
   "source": [
    "DATA_ROOT = \"/data/jim/CMB_Data/\"\n",
    "ASSETS_DIRECTORY = f\"{DATA_ROOT}/Assets/Planck/\"\n",
    "PLANCK_NOISE_DIR = f\"{DATA_ROOT}/Planck_Noise/\"\n",
    "\n",
    "DETECTORS = [545]\n",
    "# DETECTORS = [30, 44, 70, 100, 143, 217, 353, 545, 857]\n",
    "N_PLANCK_SIMS = 20"
   ]
  },
  {
   "cell_type": "code",
   "execution_count": 88,
   "metadata": {},
   "outputs": [],
   "source": [
    "def get_lmax_for_nside(nside):\n",
    "    \"\"\"Helper function: Max ell for a given nside; to be considered a parameter\"\"\"\n",
    "    return 3 * nside - 1"
   ]
  },
  {
   "cell_type": "markdown",
   "metadata": {},
   "source": [
    "# Setup"
   ]
  },
  {
   "cell_type": "markdown",
   "metadata": {},
   "source": [
    "# Planck Sims"
   ]
  },
  {
   "cell_type": "code",
   "execution_count": 89,
   "metadata": {},
   "outputs": [],
   "source": [
    "def get_field_unit(fits_fn, hdu, field_idx):\n",
    "    \"\"\"\n",
    "    Get the unit associated with a specific field from the header of the \n",
    "    specified HDU (Header Data Unit) in a FITS file.\n",
    "\n",
    "    Args:\n",
    "        fits_fn (str): The filename of the FITS file.\n",
    "        hdu (int): The index of the HDU.\n",
    "        field_idx (int): The index of the field.\n",
    "\n",
    "    Returns:\n",
    "        str: The unit of the field.\n",
    "    \"\"\"\n",
    "    with fits.open(fits_fn) as hdul:\n",
    "        try:\n",
    "            field_num = field_idx + 1\n",
    "            unit = hdul[hdu].header[f\"TUNIT{field_num}\"]\n",
    "        except KeyError:\n",
    "            unit = \"\"\n",
    "    return unit"
   ]
  },
  {
   "cell_type": "code",
   "execution_count": 90,
   "metadata": {},
   "outputs": [
    {
     "name": "stdout",
     "output_type": "stream",
     "text": [
      "MJy/sr\n"
     ]
    }
   ],
   "source": [
    "for det in DETECTORS:\n",
    "    # Get a map filename\n",
    "    t_fn = get_planck_noise_data(detector=det, assets_directory=ASSETS_DIRECTORY, realization=0, progress=True)\n",
    "    # get the map unit\n",
    "    unit = get_field_unit(t_fn, 1, 0)\n",
    "    print(unit)"
   ]
  },
  {
   "cell_type": "code",
   "execution_count": 91,
   "metadata": {},
   "outputs": [],
   "source": [
    "def get_ps_data(detector):\n",
    "    if detector in [30, 44, 70]:\n",
    "        nside = 1024\n",
    "    else:\n",
    "        nside = 2048\n",
    "    lmax = get_lmax_for_nside(nside)  # Defined above as 3*Nside-1\n",
    "    # Getting power spectra for 100 maps at 100 GHz takes ~50 minutes\n",
    "    src_cls = []\n",
    "    maps_means = []\n",
    "    for i in tqdm(range(N_PLANCK_SIMS)):\n",
    "        src_map_fn = get_planck_noise_data(detector=detector, assets_directory=ASSETS_DIRECTORY, realization=i, progress=True)\n",
    "\n",
    "        # Don't bother using astropy units here\n",
    "        src_map_unit = get_field_unit(src_map_fn, 1, 0)\n",
    "        if src_map_unit not in [\"K_CMB\", \"MJy/sr\"]:\n",
    "            raise ValueError(f\"Unknown unit {src_map_unit} for map {src_map_fn}\")\n",
    "        t_src_map = hp.read_map(src_map_fn)\n",
    "\n",
    "        maps_means.append(np.mean(t_src_map))\n",
    "        src_cls.append(hp.anafast(t_src_map, lmax=lmax))\n",
    "\n",
    "    # Determine parameters for approximating the distribution of power spectra\n",
    "    # Use log scaling for the power spectra; otherwise it's dominated by low ells\n",
    "    log_src_cls = np.log10(src_cls)\n",
    "\n",
    "    # We want to find the components that explain the majority of the variance\n",
    "    #   We don't have enough maps to fully determine the distribution, but a full\n",
    "    #   covariance matrix is overkill anyways. PCA gives a good, concise summary.\n",
    "    pca = PCA().fit(log_src_cls)\n",
    "\n",
    "    # We need the mean, the components (eigenvectors), and the variance (eigenvalues)\n",
    "    #   These are surrogates for the full covariance matrix\n",
    "    mean_ps = pca.mean_\n",
    "    components = pca.components_  \n",
    "    variance = pca.explained_variance_\n",
    "\n",
    "    # We need the mean and standard deviation of the maps_means so we can adjust the monopole as needed\n",
    "    maps_mean = np.mean(maps_means)\n",
    "    maps_sd = np.std(maps_means)\n",
    "\n",
    "    # Save the results; delete the variables so we know we test loading them\n",
    "    np.savez(f\"noise_model_{detector}GHz_n{N_PLANCK_SIMS}_uK.npz\", \n",
    "             mean_ps=mean_ps, \n",
    "             components=components,\n",
    "             variance=variance, \n",
    "             maps_mean=maps_mean, \n",
    "             maps_sd=maps_sd,\n",
    "             map_unit=src_map_unit)"
   ]
  },
  {
   "cell_type": "code",
   "execution_count": 92,
   "metadata": {},
   "outputs": [
    {
     "name": "stderr",
     "output_type": "stream",
     "text": [
      "100%|██████████| 20/20 [09:20<00:00, 28.01s/it]\n"
     ]
    }
   ],
   "source": [
    "for det in DETECTORS:\n",
    "    get_ps_data(detector=det)"
   ]
  },
  {
   "cell_type": "code",
   "execution_count": 93,
   "metadata": {},
   "outputs": [
    {
     "name": "stdout",
     "output_type": "stream",
     "text": [
      "mean_ps [-3.11092785 -3.73878997 -3.34517072 ... -9.81649124 -9.80565673\n",
      " -9.80594401]\n",
      "components [[ 5.38518315e-03  3.29031591e-03 -2.73611289e-03 ... -1.18610207e-02\n",
      "  -3.34105287e-03  8.90988988e-05]\n",
      " [ 3.45033122e-03  8.34700515e-07  3.72338291e-03 ... -1.84762558e-02\n",
      "  -1.60027100e-02  2.05571576e-02]\n",
      " [ 1.39057944e-03 -1.06612430e-03  8.18225812e-04 ...  2.34760122e-03\n",
      "  -5.90645576e-03  1.08358326e-02]\n",
      " ...\n",
      " [-1.57348407e-02 -4.25885729e-03 -4.25292595e-04 ... -8.20932383e-05\n",
      "   6.67817973e-03  1.52282584e-02]\n",
      " [-2.55316721e-04  8.85253260e-03 -1.24878184e-04 ... -5.91773981e-03\n",
      "  -7.13635044e-03  7.26510952e-03]\n",
      " [ 5.06069990e-03  2.04926651e-03 -5.81976522e-03 ...  1.06538025e-02\n",
      "  -3.00308873e-02  2.80845359e-03]]\n",
      "variance [4.10772728e-02 3.88451128e-02 3.70532747e-02 3.63494238e-02\n",
      " 3.60586868e-02 3.50763280e-02 3.44229650e-02 3.41000404e-02\n",
      " 3.39351202e-02 3.37949285e-02 3.33430047e-02 3.26348826e-02\n",
      " 3.22883694e-02 3.18389471e-02 3.12708378e-02 3.08105055e-02\n",
      " 3.00871345e-02 2.98122294e-02 2.85691965e-02 1.12613731e-26]\n",
      "maps_mean -0.007851377\n",
      "maps_sd 6.505619e-05\n",
      "map_unit MJy/sr\n"
     ]
    }
   ],
   "source": [
    "for det in DETECTORS:\n",
    "    data = np.load(f\"noise_model_{det}GHz_n{N_PLANCK_SIMS}_uK.npz\")\n",
    "    for k in data.keys():\n",
    "        print(k, data[k])"
   ]
  }
 ],
 "metadata": {
  "kernelspec": {
   "display_name": "var_map_demo",
   "language": "python",
   "name": "python3"
  },
  "language_info": {
   "codemirror_mode": {
    "name": "ipython",
    "version": 3
   },
   "file_extension": ".py",
   "mimetype": "text/x-python",
   "name": "python",
   "nbconvert_exporter": "python",
   "pygments_lexer": "ipython3",
   "version": "3.9.20"
  }
 },
 "nbformat": 4,
 "nbformat_minor": 2
}
