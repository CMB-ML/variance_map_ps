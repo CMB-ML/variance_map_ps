{
 "cells": [
  {
   "cell_type": "code",
   "execution_count": 1,
   "metadata": {},
   "outputs": [],
   "source": [
    "from itertools import product\n",
    "import sys\n",
    "from contextlib import redirect_stdout\n",
    "\n",
    "from tqdm.notebook import tqdm  # For progress bars\n",
    "\n",
    "from handle_data import get_planck_noise_data"
   ]
  },
  {
   "cell_type": "code",
   "execution_count": 2,
   "metadata": {},
   "outputs": [],
   "source": [
    "import logging"
   ]
  },
  {
   "cell_type": "code",
   "execution_count": 3,
   "metadata": {},
   "outputs": [],
   "source": [
    "logger = logging.getLogger(\"handle_data\")\n",
    "logger.setLevel(logging.DEBUG)"
   ]
  },
  {
   "cell_type": "code",
   "execution_count": 4,
   "metadata": {},
   "outputs": [],
   "source": [
    "DATA_ROOT = \"/data/jim/CMB_Data/\"\n",
    "ASSETS_DIRECTORY = f\"{DATA_ROOT}/Assets/Planck/\"\n",
    "PLANCK_NOISE_DIR = f\"{DATA_ROOT}/Planck_Noise/\"\n",
    "\n",
    "DETECTORS = [30, 44, 70, 100, 143, 217, 353, 545, 857]\n",
    "N_PLANCK_SIMS = 100"
   ]
  },
  {
   "cell_type": "code",
   "execution_count": 5,
   "metadata": {},
   "outputs": [
    {
     "data": {
      "application/vnd.jupyter.widget-view+json": {
       "model_id": "bfb7b7a39595447aa91725dfd61f8b5d",
       "version_major": 2,
       "version_minor": 0
      },
      "text/plain": [
       "Getting Maps:   0%|          | 0/450 [00:00<?, ?it/s]"
      ]
     },
     "metadata": {},
     "output_type": "display_data"
    },
    {
     "data": {
      "application/vnd.jupyter.widget-view+json": {
       "model_id": "c2e8ab6a563b49ce8eda1c90b45178d7",
       "version_major": 2,
       "version_minor": 0
      },
      "text/plain": [
       "Downloading ffp10_noise_044_full_map_mc_00047.fits:   0%|          | 0.00/143M [00:00<?, ?B/s]"
      ]
     },
     "metadata": {},
     "output_type": "display_data"
    },
    {
     "data": {
      "application/vnd.jupyter.widget-view+json": {
       "model_id": "58df9abc88c84d20ada9137ec7fd0300",
       "version_major": 2,
       "version_minor": 0
      },
      "text/plain": [
       "Downloading ffp10_noise_044_full_map_mc_00048.fits:   0%|          | 0.00/143M [00:00<?, ?B/s]"
      ]
     },
     "metadata": {},
     "output_type": "display_data"
    },
    {
     "data": {
      "application/vnd.jupyter.widget-view+json": {
       "model_id": "ebf54eb13fdc4f6ca23f770cbcbc95e2",
       "version_major": 2,
       "version_minor": 0
      },
      "text/plain": [
       "Downloading ffp10_noise_044_full_map_mc_00049.fits:   0%|          | 0.00/143M [00:00<?, ?B/s]"
      ]
     },
     "metadata": {},
     "output_type": "display_data"
    },
    {
     "data": {
      "application/vnd.jupyter.widget-view+json": {
       "model_id": "ba79006af571460992ba2cd1bbd079e2",
       "version_major": 2,
       "version_minor": 0
      },
      "text/plain": [
       "Downloading ffp10_noise_070_full_map_mc_00040.fits:   0%|          | 0.00/143M [00:00<?, ?B/s]"
      ]
     },
     "metadata": {},
     "output_type": "display_data"
    },
    {
     "data": {
      "application/vnd.jupyter.widget-view+json": {
       "model_id": "194f734a60a6489e86087fb9f6339385",
       "version_major": 2,
       "version_minor": 0
      },
      "text/plain": [
       "Downloading ffp10_noise_070_full_map_mc_00041.fits:   0%|          | 0.00/143M [00:00<?, ?B/s]"
      ]
     },
     "metadata": {},
     "output_type": "display_data"
    },
    {
     "data": {
      "application/vnd.jupyter.widget-view+json": {
       "model_id": "382fd6b43dd1459fa32e202857d1a9b8",
       "version_major": 2,
       "version_minor": 0
      },
      "text/plain": [
       "Downloading ffp10_noise_070_full_map_mc_00042.fits:   0%|          | 0.00/143M [00:00<?, ?B/s]"
      ]
     },
     "metadata": {},
     "output_type": "display_data"
    },
    {
     "data": {
      "application/vnd.jupyter.widget-view+json": {
       "model_id": "096c308c98c946edbd726eb992b89ed2",
       "version_major": 2,
       "version_minor": 0
      },
      "text/plain": [
       "Downloading ffp10_noise_070_full_map_mc_00043.fits:   0%|          | 0.00/143M [00:00<?, ?B/s]"
      ]
     },
     "metadata": {},
     "output_type": "display_data"
    },
    {
     "data": {
      "application/vnd.jupyter.widget-view+json": {
       "model_id": "531e51c3c5d34b2f967e2a85489df20e",
       "version_major": 2,
       "version_minor": 0
      },
      "text/plain": [
       "Downloading ffp10_noise_070_full_map_mc_00044.fits:   0%|          | 0.00/143M [00:00<?, ?B/s]"
      ]
     },
     "metadata": {},
     "output_type": "display_data"
    },
    {
     "data": {
      "application/vnd.jupyter.widget-view+json": {
       "model_id": "7e00d773edf445999a6a7373417ef902",
       "version_major": 2,
       "version_minor": 0
      },
      "text/plain": [
       "Downloading ffp10_noise_070_full_map_mc_00045.fits:   0%|          | 0.00/143M [00:00<?, ?B/s]"
      ]
     },
     "metadata": {},
     "output_type": "display_data"
    },
    {
     "data": {
      "application/vnd.jupyter.widget-view+json": {
       "model_id": "c0fbeeab699644d79e9bd18d9e3557b2",
       "version_major": 2,
       "version_minor": 0
      },
      "text/plain": [
       "Downloading ffp10_noise_070_full_map_mc_00046.fits:   0%|          | 0.00/143M [00:00<?, ?B/s]"
      ]
     },
     "metadata": {},
     "output_type": "display_data"
    },
    {
     "data": {
      "application/vnd.jupyter.widget-view+json": {
       "model_id": "9252b3e417cf475d93f6872d587d0bf6",
       "version_major": 2,
       "version_minor": 0
      },
      "text/plain": [
       "Downloading ffp10_noise_070_full_map_mc_00047.fits:   0%|          | 0.00/143M [00:00<?, ?B/s]"
      ]
     },
     "metadata": {},
     "output_type": "display_data"
    },
    {
     "data": {
      "application/vnd.jupyter.widget-view+json": {
       "model_id": "9171ded3acf94339bd6ce276a2bc5722",
       "version_major": 2,
       "version_minor": 0
      },
      "text/plain": [
       "Downloading ffp10_noise_070_full_map_mc_00048.fits:   0%|          | 0.00/143M [00:00<?, ?B/s]"
      ]
     },
     "metadata": {},
     "output_type": "display_data"
    },
    {
     "data": {
      "application/vnd.jupyter.widget-view+json": {
       "model_id": "8053d1879cf941efaa07eea7a4ae2869",
       "version_major": 2,
       "version_minor": 0
      },
      "text/plain": [
       "Downloading ffp10_noise_070_full_map_mc_00049.fits:   0%|          | 0.00/143M [00:00<?, ?B/s]"
      ]
     },
     "metadata": {},
     "output_type": "display_data"
    },
    {
     "data": {
      "application/vnd.jupyter.widget-view+json": {
       "model_id": "7d50faab11d04f18bf64a41e385a50d8",
       "version_major": 2,
       "version_minor": 0
      },
      "text/plain": [
       "Downloading ffp10_noise_143_full_map_mc_00040.fits:   0%|          | 0.00/575M [00:00<?, ?B/s]"
      ]
     },
     "metadata": {},
     "output_type": "display_data"
    },
    {
     "data": {
      "application/vnd.jupyter.widget-view+json": {
       "model_id": "fcbf3bf900294bb58bd9b7d52985d480",
       "version_major": 2,
       "version_minor": 0
      },
      "text/plain": [
       "Downloading ffp10_noise_143_full_map_mc_00041.fits:   0%|          | 0.00/575M [00:00<?, ?B/s]"
      ]
     },
     "metadata": {},
     "output_type": "display_data"
    },
    {
     "data": {
      "application/vnd.jupyter.widget-view+json": {
       "model_id": "27dc3605b01c407b9b9904502e16ea0a",
       "version_major": 2,
       "version_minor": 0
      },
      "text/plain": [
       "Downloading ffp10_noise_143_full_map_mc_00042.fits:   0%|          | 0.00/575M [00:00<?, ?B/s]"
      ]
     },
     "metadata": {},
     "output_type": "display_data"
    },
    {
     "data": {
      "application/vnd.jupyter.widget-view+json": {
       "model_id": "a20339db8aa64cd39f1ddf671479121a",
       "version_major": 2,
       "version_minor": 0
      },
      "text/plain": [
       "Downloading ffp10_noise_143_full_map_mc_00043.fits:   0%|          | 0.00/575M [00:00<?, ?B/s]"
      ]
     },
     "metadata": {},
     "output_type": "display_data"
    },
    {
     "data": {
      "application/vnd.jupyter.widget-view+json": {
       "model_id": "0ad1e7c604b74725ae0974fac9cecd5e",
       "version_major": 2,
       "version_minor": 0
      },
      "text/plain": [
       "Downloading ffp10_noise_143_full_map_mc_00044.fits:   0%|          | 0.00/575M [00:00<?, ?B/s]"
      ]
     },
     "metadata": {},
     "output_type": "display_data"
    },
    {
     "data": {
      "application/vnd.jupyter.widget-view+json": {
       "model_id": "241a78f70b7143ab9c8530c5eb47c484",
       "version_major": 2,
       "version_minor": 0
      },
      "text/plain": [
       "Downloading ffp10_noise_143_full_map_mc_00045.fits:   0%|          | 0.00/575M [00:00<?, ?B/s]"
      ]
     },
     "metadata": {},
     "output_type": "display_data"
    },
    {
     "data": {
      "application/vnd.jupyter.widget-view+json": {
       "model_id": "5e1cd26e32f54ea8bc8d9ce4b7904904",
       "version_major": 2,
       "version_minor": 0
      },
      "text/plain": [
       "Downloading ffp10_noise_143_full_map_mc_00046.fits:   0%|          | 0.00/575M [00:00<?, ?B/s]"
      ]
     },
     "metadata": {},
     "output_type": "display_data"
    },
    {
     "data": {
      "application/vnd.jupyter.widget-view+json": {
       "model_id": "f685315d953a409db90a9c8cc6755932",
       "version_major": 2,
       "version_minor": 0
      },
      "text/plain": [
       "Downloading ffp10_noise_143_full_map_mc_00047.fits:   0%|          | 0.00/575M [00:00<?, ?B/s]"
      ]
     },
     "metadata": {},
     "output_type": "display_data"
    },
    {
     "data": {
      "application/vnd.jupyter.widget-view+json": {
       "model_id": "274bc753d09f4fe5959830b1caa3e40f",
       "version_major": 2,
       "version_minor": 0
      },
      "text/plain": [
       "Downloading ffp10_noise_143_full_map_mc_00048.fits:   0%|          | 0.00/575M [00:00<?, ?B/s]"
      ]
     },
     "metadata": {},
     "output_type": "display_data"
    },
    {
     "data": {
      "application/vnd.jupyter.widget-view+json": {
       "model_id": "49a04aa1b7e14b6589573fe548489482",
       "version_major": 2,
       "version_minor": 0
      },
      "text/plain": [
       "Downloading ffp10_noise_143_full_map_mc_00049.fits:   0%|          | 0.00/575M [00:00<?, ?B/s]"
      ]
     },
     "metadata": {},
     "output_type": "display_data"
    },
    {
     "data": {
      "application/vnd.jupyter.widget-view+json": {
       "model_id": "3e4238cf16324e81bf6e8e39249c72a5",
       "version_major": 2,
       "version_minor": 0
      },
      "text/plain": [
       "Downloading ffp10_noise_217_full_map_mc_00040.fits:   0%|          | 0.00/575M [00:00<?, ?B/s]"
      ]
     },
     "metadata": {},
     "output_type": "display_data"
    },
    {
     "data": {
      "application/vnd.jupyter.widget-view+json": {
       "model_id": "65a038c68ce94811b41ffd3399428175",
       "version_major": 2,
       "version_minor": 0
      },
      "text/plain": [
       "Downloading ffp10_noise_217_full_map_mc_00041.fits:   0%|          | 0.00/575M [00:00<?, ?B/s]"
      ]
     },
     "metadata": {},
     "output_type": "display_data"
    },
    {
     "data": {
      "application/vnd.jupyter.widget-view+json": {
       "model_id": "d4a7f0b5aff6448c902d84e65f4242da",
       "version_major": 2,
       "version_minor": 0
      },
      "text/plain": [
       "Downloading ffp10_noise_217_full_map_mc_00042.fits:   0%|          | 0.00/575M [00:00<?, ?B/s]"
      ]
     },
     "metadata": {},
     "output_type": "display_data"
    },
    {
     "data": {
      "application/vnd.jupyter.widget-view+json": {
       "model_id": "a352c02da6814b82a349a3e5c178b0cb",
       "version_major": 2,
       "version_minor": 0
      },
      "text/plain": [
       "Downloading ffp10_noise_217_full_map_mc_00043.fits:   0%|          | 0.00/575M [00:00<?, ?B/s]"
      ]
     },
     "metadata": {},
     "output_type": "display_data"
    },
    {
     "data": {
      "application/vnd.jupyter.widget-view+json": {
       "model_id": "0e411634908a4ce4944d7d50d45a1f13",
       "version_major": 2,
       "version_minor": 0
      },
      "text/plain": [
       "Downloading ffp10_noise_217_full_map_mc_00044.fits:   0%|          | 0.00/575M [00:00<?, ?B/s]"
      ]
     },
     "metadata": {},
     "output_type": "display_data"
    },
    {
     "data": {
      "application/vnd.jupyter.widget-view+json": {
       "model_id": "a0673702d00b47dd9b3a837b809174b7",
       "version_major": 2,
       "version_minor": 0
      },
      "text/plain": [
       "Downloading ffp10_noise_217_full_map_mc_00045.fits:   0%|          | 0.00/575M [00:00<?, ?B/s]"
      ]
     },
     "metadata": {},
     "output_type": "display_data"
    },
    {
     "data": {
      "application/vnd.jupyter.widget-view+json": {
       "model_id": "a94496ae33f8404398f84b1270d75899",
       "version_major": 2,
       "version_minor": 0
      },
      "text/plain": [
       "Downloading ffp10_noise_217_full_map_mc_00046.fits:   0%|          | 0.00/575M [00:00<?, ?B/s]"
      ]
     },
     "metadata": {},
     "output_type": "display_data"
    },
    {
     "data": {
      "application/vnd.jupyter.widget-view+json": {
       "model_id": "f9bb9f515b094d8fa969b0e55a2dc277",
       "version_major": 2,
       "version_minor": 0
      },
      "text/plain": [
       "Downloading ffp10_noise_217_full_map_mc_00047.fits:   0%|          | 0.00/575M [00:00<?, ?B/s]"
      ]
     },
     "metadata": {},
     "output_type": "display_data"
    },
    {
     "data": {
      "application/vnd.jupyter.widget-view+json": {
       "model_id": "9afc332b6daf4e9f9ed6e8c81fc9fc61",
       "version_major": 2,
       "version_minor": 0
      },
      "text/plain": [
       "Downloading ffp10_noise_217_full_map_mc_00048.fits:   0%|          | 0.00/575M [00:00<?, ?B/s]"
      ]
     },
     "metadata": {},
     "output_type": "display_data"
    },
    {
     "data": {
      "application/vnd.jupyter.widget-view+json": {
       "model_id": "28823b526b1f4b50a2ba98372409942e",
       "version_major": 2,
       "version_minor": 0
      },
      "text/plain": [
       "Downloading ffp10_noise_217_full_map_mc_00049.fits:   0%|          | 0.00/575M [00:00<?, ?B/s]"
      ]
     },
     "metadata": {},
     "output_type": "display_data"
    },
    {
     "data": {
      "application/vnd.jupyter.widget-view+json": {
       "model_id": "2c697dd53054444e9003f3a613e2f4c8",
       "version_major": 2,
       "version_minor": 0
      },
      "text/plain": [
       "Downloading ffp10_noise_353_full_map_mc_00040.fits:   0%|          | 0.00/575M [00:00<?, ?B/s]"
      ]
     },
     "metadata": {},
     "output_type": "display_data"
    },
    {
     "data": {
      "application/vnd.jupyter.widget-view+json": {
       "model_id": "c422fe7d488345c7ad2f5310461565f6",
       "version_major": 2,
       "version_minor": 0
      },
      "text/plain": [
       "Downloading ffp10_noise_353_full_map_mc_00041.fits:   0%|          | 0.00/575M [00:00<?, ?B/s]"
      ]
     },
     "metadata": {},
     "output_type": "display_data"
    },
    {
     "data": {
      "application/vnd.jupyter.widget-view+json": {
       "model_id": "41f2b9812ab34014881ec4f8162ed052",
       "version_major": 2,
       "version_minor": 0
      },
      "text/plain": [
       "Downloading ffp10_noise_353_full_map_mc_00042.fits:   0%|          | 0.00/575M [00:00<?, ?B/s]"
      ]
     },
     "metadata": {},
     "output_type": "display_data"
    },
    {
     "data": {
      "application/vnd.jupyter.widget-view+json": {
       "model_id": "29210ef3011e4b29b641a03189eb8ad2",
       "version_major": 2,
       "version_minor": 0
      },
      "text/plain": [
       "Downloading ffp10_noise_353_full_map_mc_00043.fits:   0%|          | 0.00/575M [00:00<?, ?B/s]"
      ]
     },
     "metadata": {},
     "output_type": "display_data"
    },
    {
     "data": {
      "application/vnd.jupyter.widget-view+json": {
       "model_id": "19b1d498c8964a119d1b403a8b761a99",
       "version_major": 2,
       "version_minor": 0
      },
      "text/plain": [
       "Downloading ffp10_noise_353_full_map_mc_00044.fits:   0%|          | 0.00/575M [00:00<?, ?B/s]"
      ]
     },
     "metadata": {},
     "output_type": "display_data"
    },
    {
     "data": {
      "application/vnd.jupyter.widget-view+json": {
       "model_id": "5e195614d6ac4130921b816fbbfdcc77",
       "version_major": 2,
       "version_minor": 0
      },
      "text/plain": [
       "Downloading ffp10_noise_353_full_map_mc_00045.fits:   0%|          | 0.00/575M [00:00<?, ?B/s]"
      ]
     },
     "metadata": {},
     "output_type": "display_data"
    },
    {
     "data": {
      "application/vnd.jupyter.widget-view+json": {
       "model_id": "2cb4936a0a4743daa8b0cfca988e848d",
       "version_major": 2,
       "version_minor": 0
      },
      "text/plain": [
       "Downloading ffp10_noise_353_full_map_mc_00046.fits:   0%|          | 0.00/575M [00:00<?, ?B/s]"
      ]
     },
     "metadata": {},
     "output_type": "display_data"
    },
    {
     "data": {
      "application/vnd.jupyter.widget-view+json": {
       "model_id": "aa3f842f40fa47d2980d9022eb78e02c",
       "version_major": 2,
       "version_minor": 0
      },
      "text/plain": [
       "Downloading ffp10_noise_353_full_map_mc_00047.fits:   0%|          | 0.00/575M [00:00<?, ?B/s]"
      ]
     },
     "metadata": {},
     "output_type": "display_data"
    },
    {
     "data": {
      "application/vnd.jupyter.widget-view+json": {
       "model_id": "6380a702013848e494bd0bfbbad24f0a",
       "version_major": 2,
       "version_minor": 0
      },
      "text/plain": [
       "Downloading ffp10_noise_353_full_map_mc_00048.fits:   0%|          | 0.00/575M [00:00<?, ?B/s]"
      ]
     },
     "metadata": {},
     "output_type": "display_data"
    },
    {
     "data": {
      "application/vnd.jupyter.widget-view+json": {
       "model_id": "1e3c5fe4094c40c493f0bbbaf26afcea",
       "version_major": 2,
       "version_minor": 0
      },
      "text/plain": [
       "Downloading ffp10_noise_353_full_map_mc_00049.fits:   0%|          | 0.00/575M [00:00<?, ?B/s]"
      ]
     },
     "metadata": {},
     "output_type": "display_data"
    },
    {
     "data": {
      "application/vnd.jupyter.widget-view+json": {
       "model_id": "874a81687dff42b08670c42c640e179f",
       "version_major": 2,
       "version_minor": 0
      },
      "text/plain": [
       "Downloading ffp10_noise_545_full_map_mc_00040.fits:   0%|          | 0.00/191M [00:00<?, ?B/s]"
      ]
     },
     "metadata": {},
     "output_type": "display_data"
    },
    {
     "data": {
      "application/vnd.jupyter.widget-view+json": {
       "model_id": "caff6a93e15f40d3b4f0817d5a4d0c62",
       "version_major": 2,
       "version_minor": 0
      },
      "text/plain": [
       "Downloading ffp10_noise_545_full_map_mc_00041.fits:   0%|          | 0.00/191M [00:00<?, ?B/s]"
      ]
     },
     "metadata": {},
     "output_type": "display_data"
    },
    {
     "data": {
      "application/vnd.jupyter.widget-view+json": {
       "model_id": "83e508b370a74033bd8e17bf9b73b96c",
       "version_major": 2,
       "version_minor": 0
      },
      "text/plain": [
       "Downloading ffp10_noise_545_full_map_mc_00042.fits:   0%|          | 0.00/191M [00:00<?, ?B/s]"
      ]
     },
     "metadata": {},
     "output_type": "display_data"
    },
    {
     "data": {
      "application/vnd.jupyter.widget-view+json": {
       "model_id": "492506d87bd14856abe9ac1b67ecb00d",
       "version_major": 2,
       "version_minor": 0
      },
      "text/plain": [
       "Downloading ffp10_noise_545_full_map_mc_00043.fits:   0%|          | 0.00/191M [00:00<?, ?B/s]"
      ]
     },
     "metadata": {},
     "output_type": "display_data"
    },
    {
     "data": {
      "application/vnd.jupyter.widget-view+json": {
       "model_id": "97cc6340760046abb22e3e05c58c5e18",
       "version_major": 2,
       "version_minor": 0
      },
      "text/plain": [
       "Downloading ffp10_noise_545_full_map_mc_00044.fits:   0%|          | 0.00/191M [00:00<?, ?B/s]"
      ]
     },
     "metadata": {},
     "output_type": "display_data"
    },
    {
     "data": {
      "application/vnd.jupyter.widget-view+json": {
       "model_id": "b86766b191884c7c8d63d286a1e8a8a7",
       "version_major": 2,
       "version_minor": 0
      },
      "text/plain": [
       "Downloading ffp10_noise_545_full_map_mc_00045.fits:   0%|          | 0.00/191M [00:00<?, ?B/s]"
      ]
     },
     "metadata": {},
     "output_type": "display_data"
    },
    {
     "data": {
      "application/vnd.jupyter.widget-view+json": {
       "model_id": "75ff936ed7204b0386c2b4a85da7001f",
       "version_major": 2,
       "version_minor": 0
      },
      "text/plain": [
       "Downloading ffp10_noise_545_full_map_mc_00046.fits:   0%|          | 0.00/191M [00:00<?, ?B/s]"
      ]
     },
     "metadata": {},
     "output_type": "display_data"
    },
    {
     "data": {
      "application/vnd.jupyter.widget-view+json": {
       "model_id": "bcce4f9fdf424151ae87e3405885e0ca",
       "version_major": 2,
       "version_minor": 0
      },
      "text/plain": [
       "Downloading ffp10_noise_545_full_map_mc_00047.fits:   0%|          | 0.00/191M [00:00<?, ?B/s]"
      ]
     },
     "metadata": {},
     "output_type": "display_data"
    },
    {
     "data": {
      "application/vnd.jupyter.widget-view+json": {
       "model_id": "36d4505484174e86befb1277d08f0ab6",
       "version_major": 2,
       "version_minor": 0
      },
      "text/plain": [
       "Downloading ffp10_noise_545_full_map_mc_00048.fits:   0%|          | 0.00/191M [00:00<?, ?B/s]"
      ]
     },
     "metadata": {},
     "output_type": "display_data"
    },
    {
     "data": {
      "application/vnd.jupyter.widget-view+json": {
       "model_id": "83c479a6561e4339ac53bad7f16543cb",
       "version_major": 2,
       "version_minor": 0
      },
      "text/plain": [
       "Downloading ffp10_noise_545_full_map_mc_00049.fits:   0%|          | 0.00/191M [00:00<?, ?B/s]"
      ]
     },
     "metadata": {},
     "output_type": "display_data"
    },
    {
     "data": {
      "application/vnd.jupyter.widget-view+json": {
       "model_id": "375ebe2c71ff40ab93e34295b595db39",
       "version_major": 2,
       "version_minor": 0
      },
      "text/plain": [
       "Downloading ffp10_noise_857_full_map_mc_00040.fits:   0%|          | 0.00/191M [00:00<?, ?B/s]"
      ]
     },
     "metadata": {},
     "output_type": "display_data"
    },
    {
     "data": {
      "application/vnd.jupyter.widget-view+json": {
       "model_id": "9a9aeb79a52d4728b669945724e07b4e",
       "version_major": 2,
       "version_minor": 0
      },
      "text/plain": [
       "Downloading ffp10_noise_857_full_map_mc_00041.fits:   0%|          | 0.00/191M [00:00<?, ?B/s]"
      ]
     },
     "metadata": {},
     "output_type": "display_data"
    },
    {
     "data": {
      "application/vnd.jupyter.widget-view+json": {
       "model_id": "d0efadef8d5244dba022590a87a5e45f",
       "version_major": 2,
       "version_minor": 0
      },
      "text/plain": [
       "Downloading ffp10_noise_857_full_map_mc_00042.fits:   0%|          | 0.00/191M [00:00<?, ?B/s]"
      ]
     },
     "metadata": {},
     "output_type": "display_data"
    },
    {
     "data": {
      "application/vnd.jupyter.widget-view+json": {
       "model_id": "29320ce1922e497aa5b0a0517730109c",
       "version_major": 2,
       "version_minor": 0
      },
      "text/plain": [
       "Downloading ffp10_noise_857_full_map_mc_00043.fits:   0%|          | 0.00/191M [00:00<?, ?B/s]"
      ]
     },
     "metadata": {},
     "output_type": "display_data"
    },
    {
     "data": {
      "application/vnd.jupyter.widget-view+json": {
       "model_id": "6a67c7b512bf4ffebcfa2441227d57fb",
       "version_major": 2,
       "version_minor": 0
      },
      "text/plain": [
       "Downloading ffp10_noise_857_full_map_mc_00044.fits:   0%|          | 0.00/191M [00:00<?, ?B/s]"
      ]
     },
     "metadata": {},
     "output_type": "display_data"
    },
    {
     "data": {
      "application/vnd.jupyter.widget-view+json": {
       "model_id": "aac73e57916d4925b6e4160dae7ac1b6",
       "version_major": 2,
       "version_minor": 0
      },
      "text/plain": [
       "Downloading ffp10_noise_857_full_map_mc_00045.fits:   0%|          | 0.00/191M [00:00<?, ?B/s]"
      ]
     },
     "metadata": {},
     "output_type": "display_data"
    },
    {
     "data": {
      "application/vnd.jupyter.widget-view+json": {
       "model_id": "4e3ae1d0597449b3addb802e2af6feb5",
       "version_major": 2,
       "version_minor": 0
      },
      "text/plain": [
       "Downloading ffp10_noise_857_full_map_mc_00046.fits:   0%|          | 0.00/191M [00:00<?, ?B/s]"
      ]
     },
     "metadata": {},
     "output_type": "display_data"
    },
    {
     "data": {
      "application/vnd.jupyter.widget-view+json": {
       "model_id": "3d4c3573422748bcac724f44efc2400d",
       "version_major": 2,
       "version_minor": 0
      },
      "text/plain": [
       "Downloading ffp10_noise_857_full_map_mc_00047.fits:   0%|          | 0.00/191M [00:00<?, ?B/s]"
      ]
     },
     "metadata": {},
     "output_type": "display_data"
    },
    {
     "data": {
      "application/vnd.jupyter.widget-view+json": {
       "model_id": "79f51d04fa7248d9a9fe61f02f47a63c",
       "version_major": 2,
       "version_minor": 0
      },
      "text/plain": [
       "Downloading ffp10_noise_857_full_map_mc_00048.fits:   0%|          | 0.00/191M [00:00<?, ?B/s]"
      ]
     },
     "metadata": {},
     "output_type": "display_data"
    },
    {
     "data": {
      "application/vnd.jupyter.widget-view+json": {
       "model_id": "203e960832cc402c9c18959f17d3693a",
       "version_major": 2,
       "version_minor": 0
      },
      "text/plain": [
       "Downloading ffp10_noise_857_full_map_mc_00049.fits:   0%|          | 0.00/191M [00:00<?, ?B/s]"
      ]
     },
     "metadata": {},
     "output_type": "display_data"
    },
    {
     "name": "stdout",
     "output_type": "stream",
     "text": [
      "All maps acquired!\n"
     ]
    }
   ],
   "source": [
    "# Download\n",
    "combos = product(DETECTORS, range(N_PLANCK_SIMS))\n",
    "\n",
    "with redirect_stdout(sys.stdout):\n",
    "    with tqdm(total=len(DETECTORS)*N_PLANCK_SIMS, \n",
    "            desc=\"Getting Maps\", \n",
    "            position=0,\n",
    "            dynamic_ncols=True\n",
    "            ) as outer_bar:\n",
    "        for det, sim_num in combos:\n",
    "            src_map_fn = get_planck_noise_data(detector=det, \n",
    "                                            assets_directory=ASSETS_DIRECTORY, \n",
    "                                            realization=sim_num, \n",
    "                                            progress=True)\n",
    "            outer_bar.update(1)\n",
    "print(\"All maps acquired!\")"
   ]
  }
 ],
 "metadata": {
  "kernelspec": {
   "display_name": "var_map_demo",
   "language": "python",
   "name": "python3"
  },
  "language_info": {
   "codemirror_mode": {
    "name": "ipython",
    "version": 3
   },
   "file_extension": ".py",
   "mimetype": "text/x-python",
   "name": "python",
   "nbconvert_exporter": "python",
   "pygments_lexer": "ipython3",
   "version": "3.9.20"
  }
 },
 "nbformat": 4,
 "nbformat_minor": 2
}
