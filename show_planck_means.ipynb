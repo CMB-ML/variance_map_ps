{
 "cells": [
  {
   "cell_type": "code",
   "execution_count": 2,
   "metadata": {},
   "outputs": [],
   "source": [
    "import numpy as np"
   ]
  },
  {
   "cell_type": "code",
   "execution_count": 1,
   "metadata": {},
   "outputs": [],
   "source": [
    "DETECTORS = [30, 44, 70, 100, 143, 217, 353, 545, 857]"
   ]
  },
  {
   "cell_type": "code",
   "execution_count": 8,
   "metadata": {},
   "outputs": [
    {
     "name": "stdout",
     "output_type": "stream",
     "text": [
      "Detector  30 GHz: mean =  1.59e+01 uK, std =  2.07e-01 uK\n",
      "Detector  44 GHz: mean =  1.44e+01 uK, std =  2.45e-01 uK\n",
      "Detector  70 GHz: mean =  1.45e+01 uK, std =  2.44e-01 uK\n",
      "Detector 100 GHz: mean =  1.02e+00 uK, std =  7.07e-01 uK\n",
      "Detector 143 GHz: mean = -3.72e-01 uK, std =  3.61e-01 uK\n",
      "Detector 217 GHz: mean = -8.26e-01 uK, std =  1.18e+00 uK\n",
      "Detector 353 GHz: mean = -9.74e+00 uK, std =  6.87e+00 uK\n",
      "Detector 545 GHz: mean = -7.84e+03 uK, std =  5.95e+01 uK\n",
      "Detector 857 GHz: mean = -4.75e+03 uK, std =  6.77e+01 uK\n"
     ]
    }
   ],
   "source": [
    "for det in DETECTORS:\n",
    "    noise_model_fn = f\"noise_models/noise_model_{det}GHz.npz\"\n",
    "    noise_model = np.load(noise_model_fn)\n",
    "    mean = noise_model[\"maps_mean\"]\n",
    "    std = noise_model[\"maps_sd\"]\n",
    "    print(f\"Detector {det:>3} GHz: mean = {mean*1e6:>9.2e} uK, std = {std*1e6:>9.2e} uK\")"
   ]
  }
 ],
 "metadata": {
  "kernelspec": {
   "display_name": "var_map_demo",
   "language": "python",
   "name": "python3"
  },
  "language_info": {
   "codemirror_mode": {
    "name": "ipython",
    "version": 3
   },
   "file_extension": ".py",
   "mimetype": "text/x-python",
   "name": "python",
   "nbconvert_exporter": "python",
   "pygments_lexer": "ipython3",
   "version": "3.9.20"
  }
 },
 "nbformat": 4,
 "nbformat_minor": 2
}
