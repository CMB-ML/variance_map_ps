{
 "cells": [
  {
   "cell_type": "code",
   "execution_count": 1,
   "metadata": {},
   "outputs": [],
   "source": [
    "import numpy as np"
   ]
  },
  {
   "cell_type": "code",
   "execution_count": 6,
   "metadata": {},
   "outputs": [],
   "source": [
    "DETECTORS = [353]\n",
    "# DETECTORS = [353, 545, 857]"
   ]
  },
  {
   "cell_type": "code",
   "execution_count": 7,
   "metadata": {},
   "outputs": [
    {
     "name": "stdout",
     "output_type": "stream",
     "text": [
      "\n",
      "Mode: diff\n",
      "Detector 353 GHz: mean = -2.73e-14 uK, std =  6.87e-06 uK\n",
      "\n",
      "Mode: no_diff\n",
      "Detector 353 GHz: mean = -9.74e-06 uK, std =  6.87e-06 uK\n"
     ]
    }
   ],
   "source": [
    "for d in ['diff', 'no_diff']:\n",
    "    print(f\"\\nMode: {d}\")\n",
    "    for det in DETECTORS:\n",
    "        noise_model = np.load(f\"noise_models/noise_model_{det}GHz_{d}.npz\")\n",
    "        mean = noise_model[\"maps_mean\"]\n",
    "        std = noise_model[\"maps_sd\"]\n",
    "        print(f\"Detector {det:>3} GHz: mean = {mean:>9.2e} uK, std = {std:>9.2e} uK\")"
   ]
  },
  {
   "cell_type": "code",
   "execution_count": 8,
   "metadata": {},
   "outputs": [
    {
     "data": {
      "text/plain": [
       "['mean_ps', 'components', 'variance', 'maps_mean', 'maps_sd', 'maps_unit']"
      ]
     },
     "execution_count": 8,
     "metadata": {},
     "output_type": "execute_result"
    }
   ],
   "source": [
    "[k for k in noise_model.keys()]"
   ]
  },
  {
   "cell_type": "code",
   "execution_count": 9,
   "metadata": {},
   "outputs": [
    {
     "data": {
      "text/plain": [
       "array('K_CMB', dtype='<U5')"
      ]
     },
     "execution_count": 9,
     "metadata": {},
     "output_type": "execute_result"
    }
   ],
   "source": [
    "noise_model[\"maps_unit\"]"
   ]
  }
 ],
 "metadata": {
  "kernelspec": {
   "display_name": "var_map_demo",
   "language": "python",
   "name": "python3"
  },
  "language_info": {
   "codemirror_mode": {
    "name": "ipython",
    "version": 3
   },
   "file_extension": ".py",
   "mimetype": "text/x-python",
   "name": "python",
   "nbconvert_exporter": "python",
   "pygments_lexer": "ipython3",
   "version": "3.9.20"
  }
 },
 "nbformat": 4,
 "nbformat_minor": 2
}
