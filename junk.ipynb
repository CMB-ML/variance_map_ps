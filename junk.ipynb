{
 "cells": [
  {
   "cell_type": "code",
   "execution_count": 7,
   "metadata": {},
   "outputs": [],
   "source": [
    "from cmbml.utils.junk import DUMMY, test_message"
   ]
  },
  {
   "cell_type": "code",
   "execution_count": 8,
   "metadata": {},
   "outputs": [],
   "source": [
    "import logging\n",
    "import sys\n",
    "\n",
    "# Configure the root logger\n",
    "logging.basicConfig(\n",
    "    level=logging.INFO,\n",
    "    format='%(asctime)s - %(name)s - %(levelname)s - %(message)s',\n",
    "    handlers=[logging.StreamHandler(sys.stdout)]\n",
    ")\n",
    "\n",
    "# # Configure the specific module logger\n",
    "# module_name = 'your_module_name'  # Replace with the actual module name (e.g., 'mymodule')\n",
    "# module_logger = logging.getLogger(\"cmbml.utils.junk\")\n",
    "# module_logger.setLevel(logging.INFO)  # Set to desired level, e.g., INFO or DEBUG\n",
    "\n",
    "# # Attach the StreamHandler to the module logger if needed\n",
    "# if not module_logger.hasHandlers():\n",
    "#     stream_handler = logging.StreamHandler(sys.stdout)\n",
    "#     stream_handler.setFormatter(logging.Formatter('%(asctime)s - %(name)s - %(levelname)s - %(message)s'))\n",
    "#     module_logger.addHandler(stream_handler)"
   ]
  },
  {
   "cell_type": "code",
   "execution_count": 9,
   "metadata": {},
   "outputs": [
    {
     "name": "stdout",
     "output_type": "stream",
     "text": [
      "2024-10-29 16:23:06,892 - cmbml.utils.junk - INFO - Test info\n",
      "2024-10-29 16:23:06,894 - cmbml.utils.junk - WARNING - Test warning\n",
      "Done with test_message()\n"
     ]
    }
   ],
   "source": [
    "test_message()"
   ]
  }
 ],
 "metadata": {
  "kernelspec": {
   "display_name": "var_map_demo",
   "language": "python",
   "name": "python3"
  },
  "language_info": {
   "codemirror_mode": {
    "name": "ipython",
    "version": 3
   },
   "file_extension": ".py",
   "mimetype": "text/x-python",
   "name": "python",
   "nbconvert_exporter": "python",
   "pygments_lexer": "ipython3",
   "version": "3.9.20"
  }
 },
 "nbformat": 4,
 "nbformat_minor": 2
}
