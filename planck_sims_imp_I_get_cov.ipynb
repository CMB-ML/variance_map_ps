{
 "cells": [
  {
   "cell_type": "code",
   "execution_count": 1,
   "metadata": {},
   "outputs": [],
   "source": [
    "from pathlib import Path\n",
    "from itertools import product\n",
    "\n",
    "import numpy as np\n",
    "import healpy as hp\n",
    "from sklearn.decomposition import PCA\n",
    "from astropy.io import fits\n",
    "\n",
    "import matplotlib.pyplot as plt\n",
    "import matplotlib.transforms as transforms\n",
    "\n",
    "from tqdm import tqdm  # For progress bars\n",
    "\n",
    "from handle_data import get_map_dtype, get_planck_obs_data, get_planck_noise_data"
   ]
  },
  {
   "cell_type": "code",
   "execution_count": 2,
   "metadata": {},
   "outputs": [],
   "source": [
    "import logging"
   ]
  },
  {
   "cell_type": "code",
   "execution_count": 3,
   "metadata": {},
   "outputs": [],
   "source": [
    "logger = logging.getLogger(\"handle_data\")\n",
    "logger.setLevel(logging.DEBUG)"
   ]
  },
  {
   "cell_type": "code",
   "execution_count": 4,
   "metadata": {},
   "outputs": [],
   "source": [
    "DATA_ROOT = \"/data/jim/CMB_Data/\"\n",
    "ASSETS_DIRECTORY = f\"{DATA_ROOT}/Assets/Planck/\"\n",
    "PLANCK_NOISE_DIR = f\"{DATA_ROOT}/Planck_Noise/\"\n",
    "\n",
    "DETECTORS = [30, 44, 70, 100, 143, 217, 353, 545, 857]\n",
    "N_PLANCK_SIMS = 50"
   ]
  },
  {
   "cell_type": "code",
   "execution_count": 5,
   "metadata": {},
   "outputs": [],
   "source": [
    "def get_lmax_for_nside(nside):\n",
    "    \"\"\"Helper function: Max ell for a given nside; to be considered a parameter\"\"\"\n",
    "    return 3 * nside - 1"
   ]
  },
  {
   "cell_type": "markdown",
   "metadata": {},
   "source": [
    "# Setup"
   ]
  },
  {
   "cell_type": "markdown",
   "metadata": {},
   "source": [
    "# Planck Sims"
   ]
  },
  {
   "cell_type": "code",
   "execution_count": 6,
   "metadata": {},
   "outputs": [],
   "source": [
    "# combos = product(DETECTORS, range(N_PLANCK_SIMS))\n",
    "\n",
    "# for det, sim_num in combos:\n",
    "#     src_map_fn = get_planck_noise_data(detector=det, \n",
    "#                                        assets_directory=ASSETS_DIRECTORY, \n",
    "#                                        realization=sim_num, \n",
    "#                                        progress=True)\n",
    "# print(\"All maps acquired!\")"
   ]
  },
  {
   "cell_type": "code",
   "execution_count": 7,
   "metadata": {},
   "outputs": [],
   "source": [
    "# def get_ps_data(detector):\n",
    "#     if detector in [30, 44, 70]:\n",
    "#         nside = 1024\n",
    "#     else:\n",
    "#         nside = 2048\n",
    "#     lmax = get_lmax_for_nside(nside)  # Defined above as 3*Nside-1\n",
    "#     # Getting power spectra for 100 maps at 100 GHz takes ~50 minutes\n",
    "#     src_cls = []\n",
    "#     for i in tqdm(range(N_PLANCK_SIMS)):\n",
    "#         src_map_fn = get_planck_noise_data(detector=detector, assets_directory=ASSETS_DIRECTORY, realization=i, progress=True)\n",
    "#         t_src_map = hp.read_map(src_map_fn) * 1e6\n",
    "#         src_cls.append(hp.anafast(t_src_map, lmax=lmax))\n",
    "\n",
    "#     # Determine parameters for approximating the distribution\n",
    "\n",
    "#     # Use log scaling for the power spectra; otherwise it's dominated by low ells\n",
    "#     log_src_cls = np.log10(src_cls)\n",
    "\n",
    "#     # We want to find the components that explain the majority of the variance\n",
    "#     #   We don't have enough maps to fully determine the distribution, but a full\n",
    "#     #   covariance matrix is overkill anyways. PCA gives a good, concise summary.\n",
    "#     pca = PCA().fit(log_src_cls)\n",
    "\n",
    "#     # We need the mean, the components (eigenvectors), and the variance (eigenvalues)\n",
    "#     #   These are surrogates for the full covariance matrix\n",
    "#     mean_ps = pca.mean_\n",
    "#     components = pca.components_  \n",
    "#     variance = pca.explained_variance_\n",
    "\n",
    "#     # Save the results; delete the variables so we know we test loading them\n",
    "#     np.savez(f\"noise_pca_{detector}GHz.npz\", mean=mean_ps, components=components, variance=variance)"
   ]
  },
  {
   "cell_type": "code",
   "execution_count": 8,
   "metadata": {},
   "outputs": [],
   "source": [
    "# # Takes 3 hours for 50 maps and all detectors\n",
    "# for det in DETECTORS:\n",
    "#     get_ps_data(det)"
   ]
  },
  {
   "cell_type": "code",
   "execution_count": null,
   "metadata": {},
   "outputs": [],
   "source": [
    "\n",
    "def get_field_unit(fits_fn, hdu, field_idx):\n",
    "    \"\"\"\n",
    "    Get the unit associated with a specific field from the header of the \n",
    "    specified HDU (Header Data Unit) in a FITS file.\n",
    "\n",
    "    Args:\n",
    "        fits_fn (str): The filename of the FITS file.\n",
    "        hdu (int): The index of the HDU.\n",
    "        field_idx (int): The index of the field.\n",
    "\n",
    "    Returns:\n",
    "        str: The unit of the field.\n",
    "    \"\"\"\n",
    "    with fits.open(fits_fn) as hdul:\n",
    "        try:\n",
    "            field_num = field_idx + 1\n",
    "            unit = hdul[hdu].header[f\"TUNIT{field_num}\"]\n",
    "        except KeyError:\n",
    "            unit = \"\"\n",
    "    return unit"
   ]
  },
  {
   "cell_type": "code",
   "execution_count": 9,
   "metadata": {},
   "outputs": [],
   "source": [
    "def get_ps_data(detector):\n",
    "    if detector in [30, 44, 70]:\n",
    "        nside = 1024\n",
    "    else:\n",
    "        nside = 2048\n",
    "    lmax = get_lmax_for_nside(nside)  # Defined above as 3*Nside-1\n",
    "    # Getting power spectra for 100 maps at 100 GHz takes ~50 minutes\n",
    "    src_cls = []\n",
    "    maps_means = []\n",
    "    for i in tqdm(range(N_PLANCK_SIMS)):\n",
    "        src_map_fn = get_planck_noise_data(detector=detector, assets_directory=ASSETS_DIRECTORY, realization=i, progress=True)\n",
    "        t_src_map = hp.read_map(src_map_fn) * 1e6\n",
    "        maps_means.append(np.mean(t_src_map))\n",
    "        src_cls.append(hp.anafast(t_src_map, lmax=lmax))\n",
    "\n",
    "    # Determine parameters for approximating the distribution of power spectra\n",
    "    # Use log scaling for the power spectra; otherwise it's dominated by low ells\n",
    "    log_src_cls = np.log10(src_cls)\n",
    "\n",
    "    # We want to find the components that explain the majority of the variance\n",
    "    #   We don't have enough maps to fully determine the distribution, but a full\n",
    "    #   covariance matrix is overkill anyways. PCA gives a good, concise summary.\n",
    "    pca = PCA().fit(log_src_cls)\n",
    "\n",
    "    # We need the mean, the components (eigenvectors), and the variance (eigenvalues)\n",
    "    #   These are surrogates for the full covariance matrix\n",
    "    mean_ps = pca.mean_\n",
    "    components = pca.components_  \n",
    "    variance = pca.explained_variance_\n",
    "\n",
    "    # We need the mean and standard deviation of the maps_means so we can adjust the monopole as needed\n",
    "    maps_mean = np.mean(maps_means)\n",
    "    maps_sd = np.std(maps_means)\n",
    "\n",
    "    # Save the results; delete the variables so we know we test loading them\n",
    "    np.savez(f\"noise_model_{detector}GHz.npz\", mean_ps=mean_ps, components=components, variance=variance, maps_mean=maps_mean, maps_sd=maps_sd)"
   ]
  },
  {
   "cell_type": "code",
   "execution_count": 10,
   "metadata": {},
   "outputs": [],
   "source": [
    "def get_map_mean(detector):\n",
    "    means = []\n",
    "    for i in tqdm(range(N_PLANCK_SIMS)):\n",
    "        src_map_fn = get_planck_noise_data(detector=detector, assets_directory=ASSETS_DIRECTORY, realization=i, progress=True)\n",
    "        t_src_map = hp.read_map(src_map_fn) * 1e6\n",
    "        means.append(np.mean(t_src_map))\n",
    "\n",
    "    mean = np.mean(means)\n",
    "    sd = np.std(means)\n",
    "    return mean, sd"
   ]
  },
  {
   "cell_type": "code",
   "execution_count": 11,
   "metadata": {},
   "outputs": [],
   "source": [
    "from astropy.io import fits\n",
    "\n",
    "def get_field_unit(fits_fn, hdu, field_idx):\n",
    "    \"\"\"\n",
    "    Get the unit associated with a specific field from the header of the \n",
    "    specified HDU (Header Data Unit) in a FITS file.\n",
    "\n",
    "    Args:\n",
    "        fits_fn (str): The filename of the FITS file.\n",
    "        hdu (int): The index of the HDU.\n",
    "        field_idx (int): The index of the field.\n",
    "\n",
    "    Returns:\n",
    "        str: The unit of the field.\n",
    "    \"\"\"\n",
    "    with fits.open(fits_fn) as hdul:\n",
    "        try:\n",
    "            field_num = field_idx + 1\n",
    "            unit = hdul[hdu].header[f\"TUNIT{field_num}\"]\n",
    "        except KeyError:\n",
    "            unit = \"\"\n",
    "    return unit"
   ]
  },
  {
   "cell_type": "code",
   "execution_count": 12,
   "metadata": {},
   "outputs": [],
   "source": [
    "def get_unit(detector):\n",
    "    src_map_fn = get_planck_noise_data(detector=detector, assets_directory=ASSETS_DIRECTORY, realization=0, progress=True)\n",
    "    mu = get_field_unit(src_map_fn, 1, 0)\n",
    "    return mu"
   ]
  },
  {
   "cell_type": "code",
   "execution_count": 13,
   "metadata": {},
   "outputs": [
    {
     "data": {
      "text/plain": [
       "'K_CMB'"
      ]
     },
     "execution_count": 13,
     "metadata": {},
     "output_type": "execute_result"
    }
   ],
   "source": [
    "get_unit(30)"
   ]
  },
  {
   "cell_type": "code",
   "execution_count": 14,
   "metadata": {},
   "outputs": [
    {
     "name": "stderr",
     "output_type": "stream",
     "text": [
      "100%|██████████| 50/50 [01:18<00:00,  1.58s/it]\n"
     ]
    },
    {
     "name": "stdout",
     "output_type": "stream",
     "text": [
      "15.939296 0.22290839\n"
     ]
    },
    {
     "name": "stderr",
     "output_type": "stream",
     "text": [
      "100%|██████████| 50/50 [01:17<00:00,  1.56s/it]\n"
     ]
    },
    {
     "name": "stdout",
     "output_type": "stream",
     "text": [
      "14.381222 0.27000186\n"
     ]
    },
    {
     "name": "stderr",
     "output_type": "stream",
     "text": [
      "100%|██████████| 50/50 [01:19<00:00,  1.58s/it]\n"
     ]
    },
    {
     "name": "stdout",
     "output_type": "stream",
     "text": [
      "14.484065 0.27775952\n"
     ]
    },
    {
     "name": "stderr",
     "output_type": "stream",
     "text": [
      "100%|██████████| 50/50 [03:00<00:00,  3.60s/it]\n"
     ]
    },
    {
     "name": "stdout",
     "output_type": "stream",
     "text": [
      "0.9152881 0.7097808\n"
     ]
    },
    {
     "name": "stderr",
     "output_type": "stream",
     "text": [
      "100%|██████████| 50/50 [03:09<00:00,  3.79s/it]\n"
     ]
    },
    {
     "name": "stdout",
     "output_type": "stream",
     "text": [
      "-0.3112331 0.33107635\n"
     ]
    },
    {
     "name": "stderr",
     "output_type": "stream",
     "text": [
      "100%|██████████| 50/50 [03:16<00:00,  3.93s/it]\n"
     ]
    },
    {
     "name": "stdout",
     "output_type": "stream",
     "text": [
      "-0.7275943 1.2735462\n"
     ]
    },
    {
     "name": "stderr",
     "output_type": "stream",
     "text": [
      "100%|██████████| 50/50 [03:19<00:00,  3.98s/it]\n"
     ]
    },
    {
     "name": "stdout",
     "output_type": "stream",
     "text": [
      "-10.550626 6.3573728\n"
     ]
    },
    {
     "name": "stderr",
     "output_type": "stream",
     "text": [
      "100%|██████████| 50/50 [01:19<00:00,  1.59s/it]\n"
     ]
    },
    {
     "name": "stdout",
     "output_type": "stream",
     "text": [
      "-7847.94 53.799576\n"
     ]
    },
    {
     "name": "stderr",
     "output_type": "stream",
     "text": [
      "100%|██████████| 50/50 [01:20<00:00,  1.61s/it]"
     ]
    },
    {
     "name": "stdout",
     "output_type": "stream",
     "text": [
      "-4751.6924 71.41619\n"
     ]
    },
    {
     "name": "stderr",
     "output_type": "stream",
     "text": [
      "\n"
     ]
    }
   ],
   "source": [
    "for this_det in DETECTORS:\n",
    "    _m, _sd = get_map_mean(this_det)\n",
    "    print(_m, _sd)\n",
    "    map_unit = get_unit(this_det)\n",
    "    np.savez(f\"noise_mean_{this_det}GHz.npz\", mean=_m, sd=_sd, map_unit=map_unit)"
   ]
  },
  {
   "cell_type": "code",
   "execution_count": 16,
   "metadata": {},
   "outputs": [],
   "source": [
    "for this_det in DETECTORS:\n",
    "    pca_data = np.load(f\"noise_pca_{this_det}GHz.npz\")\n",
    "    maps_data = np.load(f\"noise_mean_{this_det}GHz.npz\")\n",
    "\n",
    "    mean_ps     = pca_data['mean']\n",
    "    components  = pca_data['components']\n",
    "    variance    = pca_data['variance']\n",
    "\n",
    "    mean_maps   = maps_data['mean']\n",
    "    sd_maps     = maps_data['sd']\n",
    "    map_unit    = maps_data['map_unit']\n",
    "\n",
    "    np.savez(f\"noise_model_{this_det}GHz_n50.npz\",\n",
    "             mean_ps=mean_ps,\n",
    "             components=components,\n",
    "             variance=variance,\n",
    "             mean_maps=mean_maps,\n",
    "             sd_maps=sd_maps,\n",
    "             map_unit=map_unit,\n",
    "             sim_ns=np.arange(0,50))"
   ]
  },
  {
   "cell_type": "code",
   "execution_count": 23,
   "metadata": {},
   "outputs": [],
   "source": [
    "this_det = 30\n",
    "_m, _sd = get_map_mean(30)\n",
    "print(_m, _sd)\n",
    "map_unit = get_unit(30)\n",
    "np.savez(\"noise_mean_30GHz.npz\", mean=_m, sd=_sd, map_unit=map_unit)"
   ]
  },
  {
   "cell_type": "code",
   "execution_count": 16,
   "metadata": {},
   "outputs": [
    {
     "name": "stderr",
     "output_type": "stream",
     "text": [
      "100%|██████████| 50/50 [01:12<00:00,  1.45s/it]"
     ]
    },
    {
     "name": "stdout",
     "output_type": "stream",
     "text": [
      "14.381222 0.27000186\n"
     ]
    },
    {
     "name": "stderr",
     "output_type": "stream",
     "text": [
      "\n"
     ]
    }
   ],
   "source": [
    "_m, _sd = get_map_mean(44)\n",
    "print(_m, _sd)"
   ]
  },
  {
   "cell_type": "code",
   "execution_count": 18,
   "metadata": {},
   "outputs": [
    {
     "name": "stderr",
     "output_type": "stream",
     "text": [
      "100%|██████████| 50/50 [01:18<00:00,  1.56s/it]"
     ]
    },
    {
     "name": "stdout",
     "output_type": "stream",
     "text": [
      "14.484065 0.27775952\n"
     ]
    },
    {
     "name": "stderr",
     "output_type": "stream",
     "text": [
      "\n"
     ]
    }
   ],
   "source": [
    "_m, _sd = get_map_mean(70)\n",
    "print(_m, _sd)"
   ]
  },
  {
   "cell_type": "code",
   "execution_count": 19,
   "metadata": {},
   "outputs": [
    {
     "name": "stderr",
     "output_type": "stream",
     "text": [
      "100%|██████████| 50/50 [03:31<00:00,  4.23s/it]"
     ]
    },
    {
     "name": "stdout",
     "output_type": "stream",
     "text": [
      "0.9152881 0.7097808\n"
     ]
    },
    {
     "name": "stderr",
     "output_type": "stream",
     "text": [
      "\n"
     ]
    }
   ],
   "source": [
    "_m, _sd = get_map_mean(100)\n",
    "print(_m, _sd)"
   ]
  },
  {
   "cell_type": "code",
   "execution_count": 29,
   "metadata": {},
   "outputs": [
    {
     "name": "stderr",
     "output_type": "stream",
     "text": [
      "100%|██████████| 50/50 [03:16<00:00,  3.93s/it]"
     ]
    },
    {
     "name": "stdout",
     "output_type": "stream",
     "text": [
      "-0.3112331 0.33107635\n"
     ]
    },
    {
     "name": "stderr",
     "output_type": "stream",
     "text": [
      "\n"
     ]
    }
   ],
   "source": [
    "_m, _sd = get_map_mean(143)\n",
    "print(_m, _sd)"
   ]
  },
  {
   "cell_type": "code",
   "execution_count": 29,
   "metadata": {},
   "outputs": [
    {
     "name": "stderr",
     "output_type": "stream",
     "text": [
      "100%|██████████| 50/50 [03:46<00:00,  4.52s/it]"
     ]
    },
    {
     "name": "stdout",
     "output_type": "stream",
     "text": [
      "-0.7275943 1.2735462\n"
     ]
    },
    {
     "name": "stderr",
     "output_type": "stream",
     "text": [
      "\n"
     ]
    },
    {
     "data": {
      "image/png": "[encoded data removed]",
      "text/plain": [
       "<Figure size 640x480 with 1 Axes>"
      ]
     },
     "metadata": {},
     "output_type": "display_data"
    }
   ],
   "source": [
    "_m, _sd, _means = get_map_mean(217)\n",
    "print(_m, _sd)\n",
    "plt.hist(_means, bins=10);"
   ]
  },
  {
   "cell_type": "markdown",
   "metadata": {},
   "source": []
  },
  {
   "cell_type": "code",
   "execution_count": 24,
   "metadata": {},
   "outputs": [
    {
     "name": "stderr",
     "output_type": "stream",
     "text": [
      "100%|██████████| 50/50 [03:19<00:00,  3.98s/it]"
     ]
    },
    {
     "name": "stdout",
     "output_type": "stream",
     "text": [
      "-10.550626 6.3573728\n"
     ]
    },
    {
     "name": "stderr",
     "output_type": "stream",
     "text": [
      "\n"
     ]
    }
   ],
   "source": [
    "_m, _sd, _means = get_map_mean(353)\n",
    "print(_m, _sd)\n",
    "plt.hist(_means, bins=10);"
   ]
  },
  {
   "cell_type": "code",
   "execution_count": 28,
   "metadata": {},
   "outputs": [
    {
     "data": {
      "image/png": "[encoded data removed]",
      "text/plain": [
       "<Figure size 640x480 with 1 Axes>"
      ]
     },
     "metadata": {},
     "output_type": "display_data"
    }
   ],
   "source": [
    "plt.hist(_means, bins=10);"
   ]
  },
  {
   "cell_type": "code",
   "execution_count": 32,
   "metadata": {},
   "outputs": [
    {
     "name": "stderr",
     "output_type": "stream",
     "text": [
      "100%|██████████| 50/50 [01:21<00:00,  1.63s/it]"
     ]
    },
    {
     "name": "stdout",
     "output_type": "stream",
     "text": [
      "-7847.94 53.799576\n"
     ]
    },
    {
     "name": "stderr",
     "output_type": "stream",
     "text": [
      "\n"
     ]
    }
   ],
   "source": [
    "_m, _sd = get_map_mean(545)\n",
    "print(_m, _sd)"
   ]
  },
  {
   "cell_type": "code",
   "execution_count": 33,
   "metadata": {},
   "outputs": [
    {
     "name": "stderr",
     "output_type": "stream",
     "text": [
      " 98%|█████████▊| 49/50 [01:20<00:01,  1.90s/it]"
     ]
    },
    {
     "data": {
      "application/vnd.jupyter.widget-view+json": {
       "model_id": "3aff9ab974414f4595cb473627637f05",
       "version_major": 2,
       "version_minor": 0
      },
      "text/plain": [
       "Downloading ffp10_noise_857_full_map_mc_00049.fits:   0%|          | 0.00/191M [00:00<?, ?B/s]"
      ]
     },
     "metadata": {},
     "output_type": "display_data"
    },
    {
     "name": "stderr",
     "output_type": "stream",
     "text": [
      "100%|██████████| 50/50 [01:37<00:00,  1.95s/it]"
     ]
    },
    {
     "name": "stdout",
     "output_type": "stream",
     "text": [
      "-4751.6924 71.41619\n"
     ]
    },
    {
     "name": "stderr",
     "output_type": "stream",
     "text": [
      "\n"
     ]
    }
   ],
   "source": [
    "_m, _sd = get_map_mean(857)\n",
    "print(_m, _sd)"
   ]
  }
 ],
 "metadata": {
  "kernelspec": {
   "display_name": "var_map_demo",
   "language": "python",
   "name": "python3"
  },
  "language_info": {
   "codemirror_mode": {
    "name": "ipython",
    "version": 3
   },
   "file_extension": ".py",
   "mimetype": "text/x-python",
   "name": "python",
   "nbconvert_exporter": "python",
   "pygments_lexer": "ipython3",
   "version": "3.9.20"
  }
 },
 "nbformat": 4,
 "nbformat_minor": 2
}
